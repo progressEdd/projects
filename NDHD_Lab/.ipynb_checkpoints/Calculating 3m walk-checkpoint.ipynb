{
 "cells": [
  {
   "cell_type": "code",
   "execution_count": 13,
   "metadata": {},
   "outputs": [
    {
     "data": {
      "text/html": [
       "<style>.container { width:100% !important; }</style>"
      ],
      "text/plain": [
       "<IPython.core.display.HTML object>"
      ]
     },
     "metadata": {},
     "output_type": "display_data"
    }
   ],
   "source": [
    "# Have the notebook full screen\n",
    "from IPython.core.display import display, HTML  \n",
    "display(HTML(\"<style>.container { width:100% !important; }</style>\"))"
   ]
  },
  {
   "cell_type": "markdown",
   "metadata": {},
   "source": [
    "# Import libraries for processing\n",
    "* pandas for the dataframes\n",
    "* random for simulation\n",
    "* glob for importing files"
   ]
  },
  {
   "cell_type": "code",
   "execution_count": 14,
   "metadata": {},
   "outputs": [],
   "source": [
    "import pandas as pd\n",
    "import random\n",
    "import glob"
   ]
  },
  {
   "cell_type": "markdown",
   "metadata": {},
   "source": [
    "# General Function That Calculates and Outputs Differences\n",
    "In this function, all files in with the tsv extension in the same directory as this notebook file are loaded into a list called ```filenames```, after being loaded into the list, the first for loop iterates through the ```filenames``` list and makes a ```dataframes``` list with all the tsv files converted into Pandas DataFrames.\n",
    "\n",
    "The Function takes an input called ```marker```, which is used to indicate which column we are interested in.\n",
    "\n",
    "The we use the second loop to iterate through the ```dataframes``` list. In each iteration, the difference between the first and last indicies of right heel is calculated and stored in the ```diff``` variable. Next we initialize a dictionary ```d``` that has the current filename (```filenames[i]```) and the calculated difference (```diff```). At the end of the iteration, the dictionary entry will be appended to a list called ```data```.  \n",
    "\n",
    "At the end of the function , the DataFrame ```df_all``` is returned giving a DataFrame with the file name and calculated displacement for each row"
   ]
  },
  {
   "cell_type": "code",
   "execution_count": 57,
   "metadata": {},
   "outputs": [],
   "source": [
    "def walkDisplacement(marker):\n",
    "    filenames = glob.glob(\"*.tsv\")\n",
    "    dataframes = []\n",
    "    data = []\n",
    "    allowedMarkers = [] # going to have a if statement to check if marker variable exists, otherwise python will just yell\n",
    "    \n",
    "    for f in filenames:\n",
    "        dataframes.append(pd.read_csv(f,delimiter='\\t',encoding='utf-8'))\n",
    "    \n",
    "    for i in range(len(dataframes)):\n",
    "        diff = metercalc(dataframes[i],marker)\n",
    "        d = {\"Filename\": str(filenames[i]),\"Difference (meters)\" : diff}\n",
    "        data.append(d)\n",
    "\n",
    "    df_all = pd.DataFrame(data)\n",
    "    return df_all"
   ]
  },
  {
   "cell_type": "markdown",
   "metadata": {},
   "source": [
    "# Functions For Calculating Differences\n",
    "This is the function calculates the difference of the first and last rows of a dataframe.\n",
    "\n",
    "The inputs are a dataframe and a string for the column we are interested in. I called it ```marker``` because in our case we are dealing with marker values"
   ]
  },
  {
   "cell_type": "code",
   "execution_count": 19,
   "metadata": {},
   "outputs": [],
   "source": [
    "def difference(df,marker):\n",
    "    first = df[marker].iloc[0]\n",
    "    last = df[marker].iloc[-1]\n",
    "    diff = last - first\n",
    "    return diff"
   ]
  },
  {
   "cell_type": "markdown",
   "metadata": {},
   "source": [
    "This function calculates the difference of the first and last rows of a the walk. \n",
    "\n",
    "The function is an adaptation of the logic Andrea wrote for calculating the amount of distance walked based on the position data\n",
    "\n",
    "I added a second conditional for cases where the difference is negative"
   ]
  },
  {
   "cell_type": "markdown",
   "metadata": {},
   "source": [
    "Example for TDP MS W MRI 001 10MWT2014223mmatlab.qtm \n",
    "1. Get the starting position xi (=2717.08) of the right heel\n",
    "2. Calculate the difference d by subtracting 3000mm from xi (because 3m=3000mm) d=2717.08-3000=-282.92mm \n",
    "3. Get the finish position at the end of the crop section of the right heel xf (=-321.77)\n",
    "4. If xf doesn’t equal d then check the exact difference. For example d=-282.92mm and  xf=-321.77 get the difference between them –38.85.\n",
    "5. The exact difference will now be 3000+38.85=3038.85mm which equals 3.038m"
   ]
  },
  {
   "cell_type": "code",
   "execution_count": 20,
   "metadata": {},
   "outputs": [],
   "source": [
    "def metercalc(df,marker):\n",
    "    xi = df[marker].iloc[0]\n",
    "    d = xi - 3000\n",
    "    xf = df[marker].iloc[-1]\n",
    "    if (xf != d): # checks if xi is equal to xf\n",
    "        diff = xf - d # if not then it will take the difference between the two values\n",
    "    if(diff < 0): # checks if the difference is negative\n",
    "        exact = 3000 - (diff)\n",
    "        return exact/1000 # will return flipped difference if negative\n",
    "    return diff/1000 # will return the positive difference"
   ]
  },
  {
   "cell_type": "markdown",
   "metadata": {},
   "source": [
    "# The Actual Function in use\n",
    "To use ```walkDisplacement```, place all raw tsv files into the same directory as this notebook, next, input the column name of the marker you are interested in. The following example will use the right heel"
   ]
  },
  {
   "cell_type": "code",
   "execution_count": 59,
   "metadata": {
    "scrolled": true
   },
   "outputs": [
    {
     "data": {
      "text/html": [
       "<div>\n",
       "<style scoped>\n",
       "    .dataframe tbody tr th:only-of-type {\n",
       "        vertical-align: middle;\n",
       "    }\n",
       "\n",
       "    .dataframe tbody tr th {\n",
       "        vertical-align: top;\n",
       "    }\n",
       "\n",
       "    .dataframe thead th {\n",
       "        text-align: right;\n",
       "    }\n",
       "</style>\n",
       "<table border=\"1\" class=\"dataframe\">\n",
       "  <thead>\n",
       "    <tr style=\"text-align: right;\">\n",
       "      <th></th>\n",
       "      <th>Filename</th>\n",
       "      <th>Difference (meters)</th>\n",
       "    </tr>\n",
       "  </thead>\n",
       "  <tbody>\n",
       "    <tr>\n",
       "      <th>0</th>\n",
       "      <td>test1.tsv</td>\n",
       "      <td>3.859</td>\n",
       "    </tr>\n",
       "    <tr>\n",
       "      <th>1</th>\n",
       "      <td>test2.tsv</td>\n",
       "      <td>2.314</td>\n",
       "    </tr>\n",
       "    <tr>\n",
       "      <th>2</th>\n",
       "      <td>test3.tsv</td>\n",
       "      <td>3.073</td>\n",
       "    </tr>\n",
       "    <tr>\n",
       "      <th>3</th>\n",
       "      <td>test4.tsv</td>\n",
       "      <td>0.760</td>\n",
       "    </tr>\n",
       "  </tbody>\n",
       "</table>\n",
       "</div>"
      ],
      "text/plain": [
       "    Filename  Difference (meters)\n",
       "0  test1.tsv                3.859\n",
       "1  test2.tsv                2.314\n",
       "2  test3.tsv                3.073\n",
       "3  test4.tsv                0.760"
      ]
     },
     "execution_count": 59,
     "metadata": {},
     "output_type": "execute_result"
    }
   ],
   "source": [
    "walkDisplacement(\"right heel\")"
   ]
  },
  {
   "cell_type": "markdown",
   "metadata": {},
   "source": [
    "### IF YOU GET A ```KeyError```, THAT MEANS THE MARKER YOU INPUTTED DOES NOT EXIST ON IN THE TSV COLUMNS"
   ]
  },
  {
   "cell_type": "markdown",
   "metadata": {},
   "source": [
    "# Sample Data Tests\n",
    "I made a sample data set to test the initial difference function"
   ]
  },
  {
   "cell_type": "code",
   "execution_count": 15,
   "metadata": {},
   "outputs": [
    {
     "data": {
      "text/html": [
       "<div>\n",
       "<style scoped>\n",
       "    .dataframe tbody tr th:only-of-type {\n",
       "        vertical-align: middle;\n",
       "    }\n",
       "\n",
       "    .dataframe tbody tr th {\n",
       "        vertical-align: top;\n",
       "    }\n",
       "\n",
       "    .dataframe thead th {\n",
       "        text-align: right;\n",
       "    }\n",
       "</style>\n",
       "<table border=\"1\" class=\"dataframe\">\n",
       "  <thead>\n",
       "    <tr style=\"text-align: right;\">\n",
       "      <th></th>\n",
       "      <th>right heel</th>\n",
       "    </tr>\n",
       "  </thead>\n",
       "  <tbody>\n",
       "    <tr>\n",
       "      <th>0</th>\n",
       "      <td>1</td>\n",
       "    </tr>\n",
       "    <tr>\n",
       "      <th>1</th>\n",
       "      <td>2</td>\n",
       "    </tr>\n",
       "    <tr>\n",
       "      <th>2</th>\n",
       "      <td>3</td>\n",
       "    </tr>\n",
       "    <tr>\n",
       "      <th>3</th>\n",
       "      <td>4</td>\n",
       "    </tr>\n",
       "    <tr>\n",
       "      <th>4</th>\n",
       "      <td>5</td>\n",
       "    </tr>\n",
       "    <tr>\n",
       "      <th>5</th>\n",
       "      <td>6</td>\n",
       "    </tr>\n",
       "    <tr>\n",
       "      <th>6</th>\n",
       "      <td>7</td>\n",
       "    </tr>\n",
       "    <tr>\n",
       "      <th>7</th>\n",
       "      <td>8</td>\n",
       "    </tr>\n",
       "    <tr>\n",
       "      <th>8</th>\n",
       "      <td>9</td>\n",
       "    </tr>\n",
       "  </tbody>\n",
       "</table>\n",
       "</div>"
      ],
      "text/plain": [
       "   right heel\n",
       "0           1\n",
       "1           2\n",
       "2           3\n",
       "3           4\n",
       "4           5\n",
       "5           6\n",
       "6           7\n",
       "7           8\n",
       "8           9"
      ]
     },
     "execution_count": 15,
     "metadata": {},
     "output_type": "execute_result"
    }
   ],
   "source": [
    "numbers =[1,2,3,4,5,6,7,8,9]\n",
    "df_n = pd.DataFrame({\"right heel\": numbers})\n",
    "df_n"
   ]
  },
  {
   "cell_type": "markdown",
   "metadata": {},
   "source": [
    "This was a simulated data set I generated to test the metercalc function for values over 0"
   ]
  },
  {
   "cell_type": "code",
   "execution_count": 16,
   "metadata": {},
   "outputs": [
    {
     "data": {
      "text/html": [
       "<div>\n",
       "<style scoped>\n",
       "    .dataframe tbody tr th:only-of-type {\n",
       "        vertical-align: middle;\n",
       "    }\n",
       "\n",
       "    .dataframe tbody tr th {\n",
       "        vertical-align: top;\n",
       "    }\n",
       "\n",
       "    .dataframe thead th {\n",
       "        text-align: right;\n",
       "    }\n",
       "</style>\n",
       "<table border=\"1\" class=\"dataframe\">\n",
       "  <thead>\n",
       "    <tr style=\"text-align: right;\">\n",
       "      <th></th>\n",
       "      <th>right heel</th>\n",
       "    </tr>\n",
       "  </thead>\n",
       "  <tbody>\n",
       "    <tr>\n",
       "      <th>0</th>\n",
       "      <td>3509</td>\n",
       "    </tr>\n",
       "    <tr>\n",
       "      <th>1</th>\n",
       "      <td>3534</td>\n",
       "    </tr>\n",
       "    <tr>\n",
       "      <th>2</th>\n",
       "      <td>5748</td>\n",
       "    </tr>\n",
       "    <tr>\n",
       "      <th>3</th>\n",
       "      <td>3035</td>\n",
       "    </tr>\n",
       "    <tr>\n",
       "      <th>4</th>\n",
       "      <td>1594</td>\n",
       "    </tr>\n",
       "    <tr>\n",
       "      <th>5</th>\n",
       "      <td>5002</td>\n",
       "    </tr>\n",
       "    <tr>\n",
       "      <th>6</th>\n",
       "      <td>4651</td>\n",
       "    </tr>\n",
       "    <tr>\n",
       "      <th>7</th>\n",
       "      <td>2666</td>\n",
       "    </tr>\n",
       "    <tr>\n",
       "      <th>8</th>\n",
       "      <td>3559</td>\n",
       "    </tr>\n",
       "    <tr>\n",
       "      <th>9</th>\n",
       "      <td>3207</td>\n",
       "    </tr>\n",
       "  </tbody>\n",
       "</table>\n",
       "</div>"
      ],
      "text/plain": [
       "   right heel\n",
       "0        3509\n",
       "1        3534\n",
       "2        5748\n",
       "3        3035\n",
       "4        1594\n",
       "5        5002\n",
       "6        4651\n",
       "7        2666\n",
       "8        3559\n",
       "9        3207"
      ]
     },
     "execution_count": 16,
     "metadata": {},
     "output_type": "execute_result"
    }
   ],
   "source": [
    "data = []\n",
    "for i in range(10):\n",
    "    lower = random.randint(1000,6000)\n",
    "    d = {\"right heel\": lower}\n",
    "    data.append(d)\n",
    "    \n",
    "sim = pd.DataFrame(data)\n",
    "sim"
   ]
  },
  {
   "cell_type": "markdown",
   "metadata": {},
   "source": [
    "Andrea's example"
   ]
  },
  {
   "cell_type": "code",
   "execution_count": 17,
   "metadata": {},
   "outputs": [
    {
     "data": {
      "text/html": [
       "<div>\n",
       "<style scoped>\n",
       "    .dataframe tbody tr th:only-of-type {\n",
       "        vertical-align: middle;\n",
       "    }\n",
       "\n",
       "    .dataframe tbody tr th {\n",
       "        vertical-align: top;\n",
       "    }\n",
       "\n",
       "    .dataframe thead th {\n",
       "        text-align: right;\n",
       "    }\n",
       "</style>\n",
       "<table border=\"1\" class=\"dataframe\">\n",
       "  <thead>\n",
       "    <tr style=\"text-align: right;\">\n",
       "      <th></th>\n",
       "      <th>right heel</th>\n",
       "    </tr>\n",
       "  </thead>\n",
       "  <tbody>\n",
       "    <tr>\n",
       "      <th>0</th>\n",
       "      <td>2717.08</td>\n",
       "    </tr>\n",
       "    <tr>\n",
       "      <th>1</th>\n",
       "      <td>-321.77</td>\n",
       "    </tr>\n",
       "  </tbody>\n",
       "</table>\n",
       "</div>"
      ],
      "text/plain": [
       "   right heel\n",
       "0     2717.08\n",
       "1     -321.77"
      ]
     },
     "execution_count": 17,
     "metadata": {},
     "output_type": "execute_result"
    }
   ],
   "source": [
    "ae = [2717.08,-321.77]\n",
    "df_ae = pd.DataFrame({\"right heel\" : ae})\n",
    "df_ae"
   ]
  },
  {
   "cell_type": "markdown",
   "metadata": {},
   "source": [
    "These lines of code were to test out the .iloc function, I tried it here first before implementing it to the difference function"
   ]
  },
  {
   "cell_type": "code",
   "execution_count": 28,
   "metadata": {},
   "outputs": [
    {
     "data": {
      "text/plain": [
       "8"
      ]
     },
     "execution_count": 28,
     "metadata": {},
     "output_type": "execute_result"
    }
   ],
   "source": [
    "first = df_n[\"right heel\"].iloc[0]\n",
    "last = df_n[\"right heel\"].iloc[-1]\n",
    "diff = last - first\n",
    "diff"
   ]
  },
  {
   "cell_type": "markdown",
   "metadata": {},
   "source": [
    "# Test cases for the function\n",
    "Below are tests I ran to check the accuracy of the functions"
   ]
  },
  {
   "cell_type": "markdown",
   "metadata": {},
   "source": [
    "I wrote this test case initially to see if my difference function outputted the correct value\n",
    "\n",
    "the intial value was 1 and final value was 9, the difference that should be outputted is 8 = (9-1)"
   ]
  },
  {
   "cell_type": "code",
   "execution_count": 21,
   "metadata": {},
   "outputs": [
    {
     "name": "stdout",
     "output_type": "stream",
     "text": [
      "8\n"
     ]
    }
   ],
   "source": [
    "right_diff = difference(df_n, \"right heel\")\n",
    "print(right_diff)"
   ]
  },
  {
   "cell_type": "markdown",
   "metadata": {},
   "source": [
    "I wrote this test case to check the metercalc function was outputting the correct value given random data that is in the ranges of 1000-6000"
   ]
  },
  {
   "cell_type": "code",
   "execution_count": 22,
   "metadata": {},
   "outputs": [
    {
     "data": {
      "text/plain": [
       "2.698"
      ]
     },
     "execution_count": 22,
     "metadata": {},
     "output_type": "execute_result"
    }
   ],
   "source": [
    "actual_test = metercalc(sim, \"right heel\")\n",
    "actual_test"
   ]
  },
  {
   "cell_type": "markdown",
   "metadata": {},
   "source": [
    "# Testing ways to import the data\n",
    "I wanted to make a dataframe that outputted the values, this is still under construction.\n",
    "\n",
    "Right now it is a for loop that takes a list of dataframes, runs the metercalc function on each entry and outputs a dataframe of the calculations. this section is my tests I did to make the general function\n",
    "\n",
    "If I am given more time, I will turn this into a function that can take all the tsv files in a directory, convert them into dataframes, and make a list of all the dataframes that will be processed"
   ]
  },
  {
   "cell_type": "code",
   "execution_count": 25,
   "metadata": {},
   "outputs": [
    {
     "data": {
      "text/html": [
       "<div>\n",
       "<style scoped>\n",
       "    .dataframe tbody tr th:only-of-type {\n",
       "        vertical-align: middle;\n",
       "    }\n",
       "\n",
       "    .dataframe tbody tr th {\n",
       "        vertical-align: top;\n",
       "    }\n",
       "\n",
       "    .dataframe thead th {\n",
       "        text-align: right;\n",
       "    }\n",
       "</style>\n",
       "<table border=\"1\" class=\"dataframe\">\n",
       "  <thead>\n",
       "    <tr style=\"text-align: right;\">\n",
       "      <th></th>\n",
       "      <th>filename</th>\n",
       "      <th>Difference (meters)</th>\n",
       "    </tr>\n",
       "  </thead>\n",
       "  <tbody>\n",
       "    <tr>\n",
       "      <th>0</th>\n",
       "      <td>test1.tsv</td>\n",
       "      <td>3.859</td>\n",
       "    </tr>\n",
       "    <tr>\n",
       "      <th>1</th>\n",
       "      <td>test2.tsv</td>\n",
       "      <td>2.314</td>\n",
       "    </tr>\n",
       "    <tr>\n",
       "      <th>2</th>\n",
       "      <td>test3.tsv</td>\n",
       "      <td>3.073</td>\n",
       "    </tr>\n",
       "    <tr>\n",
       "      <th>3</th>\n",
       "      <td>test4.tsv</td>\n",
       "      <td>0.760</td>\n",
       "    </tr>\n",
       "  </tbody>\n",
       "</table>\n",
       "</div>"
      ],
      "text/plain": [
       "    filename  Difference (meters)\n",
       "0  test1.tsv                3.859\n",
       "1  test2.tsv                2.314\n",
       "2  test3.tsv                3.073\n",
       "3  test4.tsv                0.760"
      ]
     },
     "execution_count": 25,
     "metadata": {},
     "output_type": "execute_result"
    }
   ],
   "source": [
    "data = []\n",
    "for i in range(len(dataframes)):\n",
    "    diff = metercalc(dataframes[i],\"right heel\")\n",
    "    d = {\"filename\": str(filenames[i]),\"Difference (meters)\" : diff}\n",
    "    data.append(d)\n",
    "\n",
    "df_all = pd.DataFrame(data)\n",
    "df_all"
   ]
  },
  {
   "cell_type": "markdown",
   "metadata": {},
   "source": [
    "I did some research and found a \n",
    "<a href=\"https://honingds.com/blog/read-multiple-data-files-into-pandas/\"> page</a> that showed how to import files and load it into a data frames\n",
    "\n",
    "I asked for some help from sigpwny and rats_irl helped me write some code based on the link I showed to him\n",
    "\n",
    "```filenames``` is a variable that stores a list of the tsv files of a directory\n",
    "\n",
    "```dataframes``` is a list\n",
    "\n",
    "the for loop iterates through ```filenames``` and for each entry, and converts the tsv files into dataframes\n",
    "\n",
    "with this I can make a general function"
   ]
  },
  {
   "cell_type": "code",
   "execution_count": 29,
   "metadata": {
    "scrolled": false
   },
   "outputs": [],
   "source": [
    "filenames = glob.glob(\"*.tsv\")\n",
    "dataframes = []\n",
    "for f in filenames:\n",
    "    dataframes.append(pd.read_csv(f,delimiter='\\t',encoding='utf-8'))"
   ]
  },
  {
   "cell_type": "markdown",
   "metadata": {},
   "source": [
    "## Checking The Outputs of filenames and dataframes"
   ]
  },
  {
   "cell_type": "code",
   "execution_count": 36,
   "metadata": {},
   "outputs": [
    {
     "name": "stdout",
     "output_type": "stream",
     "text": [
      "name of the file = test1.tsv\n",
      "   Unnamed: 0  right heel\n",
      "0           0        3516\n",
      "1           1        2689\n",
      "2           2        5181\n",
      "3           3        1408\n",
      "4           4        2545\n",
      "5           5        2229\n",
      "6           6        5266\n",
      "7           7        1686\n",
      "8           8        1558\n",
      "9           9        4375\n"
     ]
    }
   ],
   "source": [
    "print(\"name of the file = \" + str(filenames[0]))\n",
    "print(dataframes[0])"
   ]
  },
  {
   "cell_type": "code",
   "execution_count": 38,
   "metadata": {},
   "outputs": [
    {
     "data": {
      "text/html": [
       "<div>\n",
       "<style scoped>\n",
       "    .dataframe tbody tr th:only-of-type {\n",
       "        vertical-align: middle;\n",
       "    }\n",
       "\n",
       "    .dataframe tbody tr th {\n",
       "        vertical-align: top;\n",
       "    }\n",
       "\n",
       "    .dataframe thead th {\n",
       "        text-align: right;\n",
       "    }\n",
       "</style>\n",
       "<table border=\"1\" class=\"dataframe\">\n",
       "  <thead>\n",
       "    <tr style=\"text-align: right;\">\n",
       "      <th></th>\n",
       "      <th>Unnamed: 0</th>\n",
       "      <th>right heel</th>\n",
       "    </tr>\n",
       "  </thead>\n",
       "  <tbody>\n",
       "    <tr>\n",
       "      <th>0</th>\n",
       "      <td>0</td>\n",
       "      <td>3030</td>\n",
       "    </tr>\n",
       "    <tr>\n",
       "      <th>1</th>\n",
       "      <td>1</td>\n",
       "      <td>5689</td>\n",
       "    </tr>\n",
       "    <tr>\n",
       "      <th>2</th>\n",
       "      <td>2</td>\n",
       "      <td>1525</td>\n",
       "    </tr>\n",
       "    <tr>\n",
       "      <th>3</th>\n",
       "      <td>3</td>\n",
       "      <td>4448</td>\n",
       "    </tr>\n",
       "    <tr>\n",
       "      <th>4</th>\n",
       "      <td>4</td>\n",
       "      <td>5904</td>\n",
       "    </tr>\n",
       "    <tr>\n",
       "      <th>5</th>\n",
       "      <td>5</td>\n",
       "      <td>3180</td>\n",
       "    </tr>\n",
       "    <tr>\n",
       "      <th>6</th>\n",
       "      <td>6</td>\n",
       "      <td>1661</td>\n",
       "    </tr>\n",
       "    <tr>\n",
       "      <th>7</th>\n",
       "      <td>7</td>\n",
       "      <td>2981</td>\n",
       "    </tr>\n",
       "    <tr>\n",
       "      <th>8</th>\n",
       "      <td>8</td>\n",
       "      <td>5494</td>\n",
       "    </tr>\n",
       "    <tr>\n",
       "      <th>9</th>\n",
       "      <td>9</td>\n",
       "      <td>2344</td>\n",
       "    </tr>\n",
       "  </tbody>\n",
       "</table>\n",
       "</div>"
      ],
      "text/plain": [
       "   Unnamed: 0  right heel\n",
       "0           0        3030\n",
       "1           1        5689\n",
       "2           2        1525\n",
       "3           3        4448\n",
       "4           4        5904\n",
       "5           5        3180\n",
       "6           6        1661\n",
       "7           7        2981\n",
       "8           8        5494\n",
       "9           9        2344"
      ]
     },
     "execution_count": 38,
     "metadata": {},
     "output_type": "execute_result"
    }
   ],
   "source": [
    "dataframes[1]"
   ]
  }
 ],
 "metadata": {
  "kernelspec": {
   "display_name": "Python 3",
   "language": "python",
   "name": "python3"
  },
  "language_info": {
   "codemirror_mode": {
    "name": "ipython",
    "version": 3
   },
   "file_extension": ".py",
   "mimetype": "text/x-python",
   "name": "python",
   "nbconvert_exporter": "python",
   "pygments_lexer": "ipython3",
   "version": "3.7.4"
  }
 },
 "nbformat": 4,
 "nbformat_minor": 4
}
